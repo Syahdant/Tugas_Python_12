{
  "nbformat": 4,
  "nbformat_minor": 0,
  "metadata": {
    "colab": {
      "name": "Syahdan Triantoro_Python12.ipynb",
      "provenance": [],
      "authorship_tag": "ABX9TyPpusTuaiebfAdc4Fjk+cHA",
      "include_colab_link": true
    },
    "kernelspec": {
      "name": "python3",
      "display_name": "Python 3"
    }
  },
  "cells": [
    {
      "cell_type": "markdown",
      "metadata": {
        "id": "view-in-github",
        "colab_type": "text"
      },
      "source": [
        "<a href=\"https://colab.research.google.com/github/Syahdant/Tugas_Python_12/blob/main/Syahdan_Triantoro_Python12.ipynb\" target=\"_parent\"><img src=\"https://colab.research.google.com/assets/colab-badge.svg\" alt=\"Open In Colab\"/></a>"
      ]
    },
    {
      "cell_type": "code",
      "metadata": {
        "id": "aNc76HyTYirb"
      },
      "source": [
        "import numpy as np"
      ],
      "execution_count": 1,
      "outputs": []
    },
    {
      "cell_type": "code",
      "metadata": {
        "colab": {
          "base_uri": "https://localhost:8080/"
        },
        "id": "0FBAZW4aY0i2",
        "outputId": "24f8c156-a87b-4cff-c980-a09f10ed74bd"
      },
      "source": [
        "def Pathloss(jarak, frek, tipe_area, tinggi_pemancar, tinggi_penerima):\r\n",
        "    # Menghitung ahr\r\n",
        "    ahr = ((1.1 * np.log(frek) - 0.7) * tinggi_penerima) - (1.56 * np.log(frek) - 0.8)\r\n",
        "\r\n",
        "    # Menghitung C1 dan C2\r\n",
        "    if ((frek) >= 400 and (frek) <= 1500):\r\n",
        "        c1 = 69.55\r\n",
        "        c2 = 26.16\r\n",
        "    elif ((frek) > 1500 and (frek) <= 2000):\r\n",
        "        c1 = 46.3\r\n",
        "        c2 = 33.9\r\n",
        "    else:\r\n",
        "        return None\r\n",
        "\r\n",
        "    # Menghitung Cm\r\n",
        "    if tipe_area == \"Urban\":\r\n",
        "        cm = 0\r\n",
        "    elif tipe_area == \"Suburban\":\r\n",
        "        cm = -2 * np.log10(frek / 28) ** -5.4\r\n",
        "    elif tipe_area == \"Open\":\r\n",
        "        cm = -4.78 * np.log10(frek) ** +18.33 * np.log10(frek) - 40.94\r\n",
        "    else:\r\n",
        "        return None\r\n",
        "\r\n",
        "    # Menghitung Pathloss\r\n",
        "    return c1 + c2 * np.log(frek) - 13.83 * np.log(tinggi_penerima) - ahr + (44.9 - 6.55 * np.log(tinggi_pemancar)) * np.log(jarak) + cm\r\n",
        "\r\n",
        "\r\n",
        "try:\r\n",
        "    #jarak = 5 km , frek = 1500MHz , tipe area = Suburban , tinggi pemancar = 45 , tinggi penerima = 25\r\n",
        "    print(\"contoh pathloss 1 = \", Pathloss(5, 1500, \"Suburban\", 45, 25))\r\n",
        "    \r\n",
        "    # jarak = 2 km , frek = 700MHz , tipe area = Urban , tinggi pemancar = 35 , tinggi penerima = 15\r\n",
        "    print(\"contoh pathloss 2 = dB\", Pathloss(2, 700, \"Urban\", 35, 15))\r\n",
        "except NameError:\r\n",
        "    print(\"undefined :(\")"
      ],
      "execution_count": 2,
      "outputs": [
        {
          "output_type": "stream",
          "text": [
            "contoh pathloss 1 =  75.37247507201036\n",
            "contoh pathloss 2 =  130.2814098600992\n"
          ],
          "name": "stdout"
        }
      ]
    }
  ]
}